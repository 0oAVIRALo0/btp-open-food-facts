{
 "cells": [
  {
   "cell_type": "code",
   "execution_count": 2,
   "metadata": {},
   "outputs": [
    {
     "name": "stdout",
     "output_type": "stream",
     "text": [
      "Collecting elasticsearch\n",
      "  Using cached elasticsearch-8.15.1-py3-none-any.whl.metadata (8.7 kB)\n",
      "Collecting elastic-transport<9,>=8.13 (from elasticsearch)\n",
      "  Using cached elastic_transport-8.15.1-py3-none-any.whl.metadata (3.7 kB)\n",
      "Requirement already satisfied: urllib3<3,>=1.26.2 in /opt/anaconda3/lib/python3.12/site-packages (from elastic-transport<9,>=8.13->elasticsearch) (2.2.2)\n",
      "Requirement already satisfied: certifi in /opt/anaconda3/lib/python3.12/site-packages (from elastic-transport<9,>=8.13->elasticsearch) (2024.6.2)\n",
      "Using cached elasticsearch-8.15.1-py3-none-any.whl (524 kB)\n",
      "Using cached elastic_transport-8.15.1-py3-none-any.whl (64 kB)\n",
      "Installing collected packages: elastic-transport, elasticsearch\n",
      "Successfully installed elastic-transport-8.15.1 elasticsearch-8.15.1\n"
     ]
    }
   ],
   "source": [
    "!pip3 install elasticsearch"
   ]
  },
  {
   "cell_type": "code",
   "execution_count": 3,
   "metadata": {},
   "outputs": [
    {
     "ename": "TypeError",
     "evalue": "Elasticsearch.__init__() got an unexpected keyword argument 'scheme'",
     "output_type": "error",
     "traceback": [
      "\u001b[0;31m---------------------------------------------------------------------------\u001b[0m",
      "\u001b[0;31mTypeError\u001b[0m                                 Traceback (most recent call last)",
      "Cell \u001b[0;32mIn[3], line 5\u001b[0m\n\u001b[1;32m      1\u001b[0m \u001b[38;5;28;01mfrom\u001b[39;00m \u001b[38;5;21;01melasticsearch\u001b[39;00m \u001b[38;5;28;01mimport\u001b[39;00m Elasticsearch\n\u001b[1;32m      3\u001b[0m ENDPOINT \u001b[38;5;241m=\u001b[39m \u001b[38;5;124m\"\u001b[39m\u001b[38;5;124mhttps://localhost:9200/\u001b[39m\u001b[38;5;124m\"\u001b[39m\n\u001b[0;32m----> 5\u001b[0m es \u001b[38;5;241m=\u001b[39m Elasticsearch(\n\u001b[1;32m      6\u001b[0m     hosts\u001b[38;5;241m=\u001b[39m[ENDPOINT],\n\u001b[1;32m      7\u001b[0m     http_auth\u001b[38;5;241m=\u001b[39m(\u001b[38;5;124m'\u001b[39m\u001b[38;5;124melastic\u001b[39m\u001b[38;5;124m'\u001b[39m, \u001b[38;5;124m'\u001b[39m\u001b[38;5;124mMdTpffcwIMOt3id1Ks82\u001b[39m\u001b[38;5;124m'\u001b[39m),  \u001b[38;5;66;03m# Replace with your username and password\u001b[39;00m\n\u001b[1;32m      8\u001b[0m     scheme\u001b[38;5;241m=\u001b[39m\u001b[38;5;124m\"\u001b[39m\u001b[38;5;124mhttps\u001b[39m\u001b[38;5;124m\"\u001b[39m,\n\u001b[1;32m      9\u001b[0m     port\u001b[38;5;241m=\u001b[39m\u001b[38;5;241m9200\u001b[39m,\n\u001b[1;32m     10\u001b[0m     verify_certs\u001b[38;5;241m=\u001b[39m\u001b[38;5;28;01mFalse\u001b[39;00m,  \u001b[38;5;66;03m# Set to False to ignore self-signed certificate warnings; change as needed\u001b[39;00m\n\u001b[1;32m     11\u001b[0m     timeout\u001b[38;5;241m=\u001b[39m\u001b[38;5;241m600\u001b[39m\n\u001b[1;32m     12\u001b[0m )\n",
      "\u001b[0;31mTypeError\u001b[0m: Elasticsearch.__init__() got an unexpected keyword argument 'scheme'"
     ]
    }
   ],
   "source": [
    "from elasticsearch import Elasticsearch\n",
    "\n",
    "ENDPOINT = \"https://localhost:9200/\"\n",
    "\n",
    "es = Elasticsearch(\n",
    "    hosts=[ENDPOINT],\n",
    "    http_auth=('elastic', 'MdTpffcwIMOt3id1Ks82'),  # Replace with your username and password\n",
    "    scheme=\"https\",\n",
    "    port=9200,\n",
    "    verify_certs=False,  # Set to False to ignore self-signed certificate warnings; change as needed\n",
    "    timeout=600\n",
    ")"
   ]
  }
 ],
 "metadata": {
  "kernelspec": {
   "display_name": "Python 3",
   "language": "python",
   "name": "python3"
  },
  "language_info": {
   "codemirror_mode": {
    "name": "ipython",
    "version": 3
   },
   "file_extension": ".py",
   "mimetype": "text/x-python",
   "name": "python",
   "nbconvert_exporter": "python",
   "pygments_lexer": "ipython3",
   "version": "3.12.4"
  }
 },
 "nbformat": 4,
 "nbformat_minor": 2
}
